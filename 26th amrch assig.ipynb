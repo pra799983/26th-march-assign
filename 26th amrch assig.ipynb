{
 "cells": [
  {
   "cell_type": "code",
   "execution_count": null,
   "id": "dcd0132c-c482-401d-b859-9f8ba6002fb8",
   "metadata": {},
   "outputs": [],
   "source": [
    "# Q1. Explain the difference between simple linear regression and multiple linear regression. Provide an\n",
    "#     example of each.\n",
    "Simple Linear Regression is a type of Regression algorithms that models the relationship between a dependent variable and \n",
    "a single independent variable. The relationship shown by a Simple Linear Regression model is linear or a sloped straight line,\n",
    "hence it is called Simple Linear Regression.\n",
    "\n",
    "The key point in Simple Linear Regression is that the dependent variable must be a continuous/real value.\n",
    "However, the independent variable can be measured on continuous or categorical values.\n",
    "\n",
    "Syntax:\n",
    "\n",
    "y = θx + b\n",
    "\n",
    "where,\n",
    "\n",
    "θ – cofficient of slope\n",
    "b – intercept\n",
    "\n",
    "multiple linear regression--------->>>>>>>>\n",
    "\n",
    "Multiple Linear Regression is one of the important regression algorithms \n",
    "which models the linear relationship between a single dependent continuous variable and more than one independent variable.\n",
    "\n",
    "Syntax:\n",
    "\n",
    "y = b + θ1x1 + θ2x2 + θ3x3 +.... + θnxn\n",
    "\n",
    "where\n",
    "b – intercept"
   ]
  },
  {
   "cell_type": "code",
   "execution_count": null,
   "id": "979724dc-1364-4efd-9bac-4b83374664a6",
   "metadata": {},
   "outputs": [],
   "source": [
    "# Q2. Discuss the assumptions of linear regression. How can you check whether these assumptions hold in\n",
    "#     a given dataset?\n",
    "\n",
    "#     There are primarily five assumptions of linear regression. They are:\n",
    "\n",
    "#     There is a linear relationship between the predictors (x) and the outcome (y)\n",
    "#     Predictors (x) are independent and observed with negligible error\n",
    "#     Residual Errors have a mean value of zero\n",
    "#     Residual Errors have constant variance\n",
    "#     Residual Errors are independent from each other and predictors (x)"
   ]
  },
  {
   "cell_type": "code",
   "execution_count": null,
   "id": "12ea944d-be25-4835-9228-2144d8ae8d61",
   "metadata": {},
   "outputs": [],
   "source": [
    "# Q3. How do you interpret the slope and intercept in a linear regression model? Provide an example using\n",
    "#     a real-world scenario.\n",
    "\n",
    "This relationship can be represented by the equation y = b0 + b1x, where b0 is the y-intercept and b1 is the slope.\n",
    "\n",
    "For example, a company determines that job performance for employees in a production department can be predicted using the\n",
    "regression model y = 130 + 4.3x, where x is the hours of in-house training they receive (from 0 to 20) and y is their score on a job \n",
    "skills test. The value of the y-intercept (130) indicates the average job skill score for an employee with no training. \n",
    "The value of the slope (4.3) indicates that for each hour of training, the job skill score increases, on average, by 4.3 points."
   ]
  },
  {
   "cell_type": "code",
   "execution_count": null,
   "id": "d90913ef-f5a6-4d68-93f4-17fb32732dee",
   "metadata": {},
   "outputs": [],
   "source": [
    "# Q4. Explain the concept of gradient descent.How is it used in machine learning?\n",
    "Gradient descent is an optimization algorithm which is commonly-used to train machine learning models.  \n",
    "Training data helps these models learn over time, and the cost function within gradient descent specifically acts as a barometer,\n",
    "gauging its accuracy with each iteration of parameter updates. Until the function is close to or equal to zero, the model will \n",
    "continue to adjust its parameters to yield the smallest possible error."
   ]
  },
  {
   "cell_type": "code",
   "execution_count": null,
   "id": "71335315-093a-4f8e-90a6-0254e2f24641",
   "metadata": {},
   "outputs": [],
   "source": [
    "# Q5. Describe the multiple linear regression model. How does it differ from simple linear regression?\n",
    "multiple linear regression example----->>>>>>>>>>>\n",
    "Multiple linear regression is used to estimate the relationship between two or more independent variables and one dependent variable. \n",
    "You can use multiple linear regression when you want to know:\n",
    "How strong the relationship is between two or more independent variables and\n",
    "one dependent variable (e.g. how rainfall, temperature, and amount of fertilizer added affect crop growth).\n",
    "The value of the dependent variable at a certain value of the independent variables\n",
    "(e.g. the expected yield of a crop at certain levels of rainfall, temperature, and fertilizer addition).\n",
    "\n",
    "As you know that in simple regression  is used to estimate the relationship between two independent variables \n",
    "and one dependent variable."
   ]
  },
  {
   "cell_type": "code",
   "execution_count": null,
   "id": "326d77d1-0b5c-4fec-b073-77bfbae813aa",
   "metadata": {},
   "outputs": [],
   "source": [
    "# Q6. Explain the concept of multicollinearity in multiple linear regression. How can you detect and\n",
    "#     address this issue?\n",
    "\n",
    "Multicollinearity happens when independent variables in the regression model are highly correlated to each other. \n",
    "It makes it hard to interpret of model and also creates an overfitting problem. \n",
    "It is a common assumption that people test before selecting the variables into the regression model.\n",
    "\n",
    "How can you detect and address this issue?\n",
    "1. Variable Selection\n",
    "2. Variable Transformation\n",
    "3. Principal Component Analysis\n",
    "these are three method by which we can detect this issue."
   ]
  },
  {
   "cell_type": "code",
   "execution_count": null,
   "id": "986266a2-a93b-44b8-ae82-10a60daf6dde",
   "metadata": {},
   "outputs": [],
   "source": [
    "# Q7. Describe the polynomial regression model. How is it different from linear regression?\n",
    "Polynomial Regression is a form of linear regression in which the relationship between the independent variable x\n",
    "and dependent variable y is modeled as an nth degree polynomial. Polynomial regression fits a nonlinear relationship \n",
    "between the value of x and the corresponding conditional mean of y, denoted E(y |x)\n",
    "\n",
    "y = a + b1x + b2x^2 +....+ bnx^n\n",
    "\n",
    "Since regression function is linear in terms of unknown variables, hence these models are linear from the point of estimation.\n",
    "\n",
    "As you know that in simple regression  is used to estimate the relationship between two independent variables \n",
    "and one dependent variable.\n"
   ]
  },
  {
   "cell_type": "code",
   "execution_count": 1,
   "id": "6902a49c-c10e-4bd4-8a71-ef1eccf21c53",
   "metadata": {},
   "outputs": [
    {
     "ename": "SyntaxError",
     "evalue": "invalid character '–' (U+2013) (2830624468.py, line 3)",
     "output_type": "error",
     "traceback": [
      "\u001b[0;36m  Cell \u001b[0;32mIn[1], line 3\u001b[0;36m\u001b[0m\n\u001b[0;31m    Advantage – Polynomial Regression\u001b[0m\n\u001b[0m              ^\u001b[0m\n\u001b[0;31mSyntaxError\u001b[0m\u001b[0;31m:\u001b[0m invalid character '–' (U+2013)\n"
     ]
    }
   ],
   "source": [
    "# Q8. What are the advantages and disadvantages of polynomial regression compared to linear\n",
    "#     regression? In what situations would you prefer to use polynomial regression?\n",
    "Advantage – Polynomial Regression\n",
    "\n",
    "The polynomial regression is flexible enough to get fitted in a vast range of curvatures.\n",
    "A broad range of functions can easily fit under it.\n",
    "The polynomial regression offers the best approximation of the relationship between the two dependent and independent variables.\n",
    "\n",
    "Disadvantages of Polynomial Regression\n",
    "\n",
    "One or two outliers in the data might have a significant impact on the nonlinear analysis' outcomes.\n",
    "These are overly reliant on outliers. Furthermore, there are fewer model validation methods for detecting outliers in \n",
    "nonlinear regression than there are for linear regression\n",
    "\n",
    "\n",
    "advantage of linear regression------->>>>>>>>>>\n",
    "Linear regression performs exceptionally well for linearly separable data.\n",
    "asier to implement, interpret and efficient to train\n",
    "\n",
    "\n",
    "\n",
    "\n",
    "\n",
    "\n",
    "\n",
    "disadvantage of linear regression------->>>>>>>>>>\n",
    "Since linear regression assumes a linear relationship between the input and output varaibles, it fails to fit complex datasets properly. \n",
    "In most real life scenarios the relationship between the variables of the dataset isn't linear and hence a straight line doesn't fit \n",
    "the data properly.\n"
   ]
  }
 ],
 "metadata": {
  "kernelspec": {
   "display_name": "Python 3 (ipykernel)",
   "language": "python",
   "name": "python3"
  },
  "language_info": {
   "codemirror_mode": {
    "name": "ipython",
    "version": 3
   },
   "file_extension": ".py",
   "mimetype": "text/x-python",
   "name": "python",
   "nbconvert_exporter": "python",
   "pygments_lexer": "ipython3",
   "version": "3.10.8"
  }
 },
 "nbformat": 4,
 "nbformat_minor": 5
}
